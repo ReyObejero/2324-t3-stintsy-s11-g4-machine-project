{
 "cells": [
  {
   "cell_type": "markdown",
   "metadata": {},
   "source": [
    "- __APA, GIUSIPPI MARIA II DEL ROSARIO__\n",
    "- __OBEJERO, REY FERBS MAGALLON__\n",
    "- __RAMIREZ, BENMAR SIM GREFALDA__\n",
    "- __RAMOS, RONN PATRICK BICERA__"
   ]
  },
  {
   "cell_type": "markdown",
   "metadata": {},
   "source": [
    "## Introduction"
   ]
  },
  {
   "cell_type": "code",
   "execution_count": 1,
   "metadata": {},
   "outputs": [],
   "source": [
    "import matplotlib.pyplot as plt\n",
    "%matplotlib inline\n",
    "import numpy as np\n",
    "import csv\n",
    "import math\n",
    "\n",
    "# set default size of plots\n",
    "plt.rcParams['figure.figsize'] = (6.0, 6.0)\n",
    "plt.rcParams['image.interpolation'] = 'nearest'\n",
    "\n",
    "%load_ext autoreload\n",
    "%autoreload 2"
   ]
  },
  {
   "cell_type": "markdown",
   "metadata": {},
   "source": [
    "## Description"
   ]
  },
  {
   "cell_type": "markdown",
   "metadata": {},
   "source": [
    "The dataset is related to soccer matches and will be used to predict how many goals will be scored during the remaining match time. The dataset contains 10,000 such snapshots, each taken at a different, random point in time during a match. \n",
    "\n",
    "In the context of this dataset, a “snapshot” refers to a set of data points captured at a specific moment during a soccer match.\n",
    "\n",
    "As for the collection process, it can be inferred that the data might have been collected in real-time during this soccer match, capturing various events and statistics at different timestamps. This data would allow for more accurate predictions of future events based on the current state of the match, and whether it is best to bet on over or under a certain number of goals.\n",
    "\n",
    "There are only 7000 instances(rows) and 20 features(columns) in the dataset.\n",
    "\n",
    "The features included are: \n",
    "\n",
    "uuid: Snapshot’s unique ID.\n",
    "\n",
    "current_minute: Match’s current minute, including 15 min half-time.\n",
    "\n",
    "home_score and away_score: Home and away team’s goals.\n",
    "\n",
    "home_yellow_cards and away_yellow_cards: Home and away team’s yellow cards.\n",
    "\n",
    "home_red_cards and away_red_cards: Home and away team’s red cards.\n",
    "\n",
    "home_attacks and away_attacks: Home and away team’s attempted attacks.\n",
    "\n",
    "home_dangerous_attacks and away_dangerous_attacks: Home and away team’s dangerous attacks.\n",
    "\n",
    "home_corners and away_corners: Home and away team’s awarded corners.\n",
    "\n",
    "home_off_target and away_off_target: Home and away team’s off-target shots.\n",
    "\n",
    "home_on_target and away_on_target: Home and away team’s on-target shots.\n",
    "\n",
    "home_possession and away_possession: Home and away team’s ball possession %."
   ]
  },
  {
   "cell_type": "markdown",
   "metadata": {},
   "source": [
    "## Modules"
   ]
  },
  {
   "cell_type": "code",
   "execution_count": 4,
   "metadata": {},
   "outputs": [],
   "source": [
    "import csv\n",
    "import h5py\n",
    "import math\n",
    "import os\n",
    "import pickle\n",
    "import random\n",
    "from linear_regression import AnalyticalMethod, compute_RMSE\n",
    "from linear_regression import PolyFitMethod\n",
    "import matplotlib.pyplot as plt\n",
    "import numpy as np\n",
    "from neural_network import NeuralNetwork\n",
    "import pandas as pd\n",
    "from scipy import misc\n",
    "from sklearn import preprocessing\n",
    "from sklearn.base import BaseEstimator\n",
    "from sklearn.datasets import make_blobs\n",
    "from sklearn.ensemble import RandomForestClassifier, AdaBoostClassifier\n",
    "from sklearn.feature_extraction.text import CountVectorizer\n",
    "from sklearn.linear_model import SGDRegressor\n",
    "from sklearn.metrics import log_loss, accuracy_score, classification_report, ParameterGrid\n",
    "from sklearn.model_selection import train_test_split, RandomizedSearchCV, cross_val_predict, cross_val_score\n",
    "from sklearn.naive_bayes import MultinomialNB, GaussianNB\n",
    "from sklearn.neighbors import KNeighborsClassifier\n",
    "from sklearn.pipeline import Pipeline\n",
    "from sklearn.tree import DecisionTreeClassifier\n",
    "import torch.optim as optim\n",
    "import torch.nn as nn\n"
   ]
  },
  {
   "cell_type": "markdown",
   "metadata": {},
   "source": [
    "## Data Cleaning"
   ]
  },
  {
   "cell_type": "code",
   "execution_count": null,
   "metadata": {},
   "outputs": [],
   "source": []
  },
  {
   "cell_type": "markdown",
   "metadata": {},
   "source": [
    "## Exploratory Data Analysis"
   ]
  },
  {
   "cell_type": "markdown",
   "metadata": {},
   "source": [
    "## Model Training"
   ]
  },
  {
   "cell_type": "markdown",
   "metadata": {},
   "source": [
    "## Error Analysis"
   ]
  },
  {
   "cell_type": "markdown",
   "metadata": {},
   "source": [
    "## Improving Model"
   ]
  },
  {
   "cell_type": "markdown",
   "metadata": {},
   "source": [
    "## Model Selection"
   ]
  },
  {
   "cell_type": "markdown",
   "metadata": {},
   "source": [
    "## Insights and Conclusions"
   ]
  },
  {
   "cell_type": "markdown",
   "metadata": {},
   "source": [
    "## Reference"
   ]
  }
 ],
 "metadata": {
  "kernelspec": {
   "display_name": "Python 3 (ipykernel)",
   "language": "python",
   "name": "python3"
  },
  "language_info": {
   "codemirror_mode": {
    "name": "ipython",
    "version": 3
   },
   "file_extension": ".py",
   "mimetype": "text/x-python",
   "name": "python",
   "nbconvert_exporter": "python",
   "pygments_lexer": "ipython3",
   "version": "3.11.7"
  }
 },
 "nbformat": 4,
 "nbformat_minor": 1
}
